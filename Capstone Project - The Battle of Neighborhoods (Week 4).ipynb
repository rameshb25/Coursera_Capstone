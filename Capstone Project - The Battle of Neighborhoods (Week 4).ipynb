{
 "cells": [
  {
   "cell_type": "markdown",
   "metadata": {},
   "source": [
    "### Peer-graded Assignment: Capstone Project - The Battle of Neighborhoods (Week 4)"
   ]
  },
  {
   "cell_type": "markdown",
   "metadata": {},
   "source": [
    "### Where to live: Exploring the Coolest Neighbourhoods in Toronto\n",
    "\n",
    "### Ramesh Baskaran"
   ]
  },
  {
   "cell_type": "markdown",
   "metadata": {},
   "source": [
    "## **1.0 Introduction**\n",
    "\n",
    "Toronto’s strength is based on a diverse and stable economy. It is the second fastest growing urban centre in North America and Canada’s tech hub. This drives a constant stream of people moving into the city because of job opportunities. Where to live in Toronto depends on your preferences and lifestyle. Toronto is a mosaic of distinct neighbourhoods, each of them with their own identities and charms. The objective of this project is to give you an idea of where to live in Toronto. These neighbourhoods are constantly evolving, and boundaries can become blurred and disputed, but the analysis will serve as a guide to some of the key characteristics of each locality within the city of Toronto and some of the surrounding suburbs of Toronto. Seeking a decent place to live can be one of the most daunting tasks when moving in or relocating to Toronto. It’s worth investing time and effort in preparation and research on the various accommodation types and which of the Toronto neighbourhoods is right for you.\n",
    "\n",
    "A single bachelor condo will set you back between $1500-1600 in rent a month to live alone, and you can expect to have to compete with others just to get the rental. In Toronto, the rental market is a dynamic one with demand continuing to overtake supply. Before committing to a longer term and more costly settlement, you need details such as feasibility of leasing an apartment, security issue, and amenities that will allow you some time to find out the Toronto neighbourhood you believe is best for you and your family, if applicable.\n",
    "\n",
    "The project will take into account crime, apartment rentals, population density, and amenities while comparing the similarities between the communities and their local townships. These are crucial considerations to think when making a decision as to where to live. Security and affordability are the key decision-makers for relocation. In this neighbourhood, do you feel safe? Can you afford to live in a neighbourhood like that? And how close is it to where I live now? Or I just want to live near a seaside or a park, where is the best place for me? The purpose of this project is to provide insight and address these questions on the basis of these characteristics."
   ]
  },
  {
   "cell_type": "markdown",
   "metadata": {},
   "source": [
    "### **1.1 Target Audience**\n",
    "Who would be more interested in this project? What kind of clients or a group of people will benefit from this research?\n",
    "* Local and global business investors are searching for lucrative business opportunities. This review would provide the current as well as new business owners with an outline for their products or service for their target customers.\n",
    "* Real Estate Investment prospects in Toronto for  local and non-resident investors. As Toronto continues to resolve its affordable housing crisis, the City says it is now actively looking to identify partners, sites, and properties that could be sufficient to support the goal of creating tens of thousands of affordable rental homes over the next decade.\n",
    "* Toronto City Councils are made up of municipalities and councillors responsible for making local decisions on the management of townships. The research would take into account local facts and conditions, in particular, crime rates and rental prices. This can allow service managers to design and deliver a wide variety of programmes and services to people experiencing safety issues and housing affordability.\n",
    "* Toronto New Immigrants. Toronto is one of the most multicultural metropolitan areas of the world. Each year tens of thousands of immigrants from all over the world select the city as their new home. This study will provide knowledge and decision-making  on which neighbourhood to settle down."
   ]
  },
  {
   "cell_type": "markdown",
   "metadata": {},
   "source": [
    "## **2.0 Data Collection**\n",
    "\n",
    "### **2.1 Sources of Data on Toronto Neighbourhoods and Venues Categories**\n",
    "\n",
    "* [List of Postal Code from Canada:M](https://en.wikipedia.org/wiki/List_of_postal_codes_of_Canada:_M). I used the above wiki page to get all the details about the neighbourhoods in Toronto. This page has the postal code, borough, and the name of all the neighbourhoods in Toronto. Unfortunately, I noticed that the wiki page could only acquire around 100 postal codes during the Course Lab assignment. I have chosen to source elsewhere.\n",
    "\n",
    "* [Toronto City Government Open Data](https://www.toronto.ca/city-government/data-research-maps/open-data/) defined and listed 140 neighbourhood boundaries. Thus, I added another 40 neighbourhoods name to the earlier lack of wiki dataset. Postal codes have been determined using the [World Zip Code](https://worldpostalcode.com) search engine. I also manage to get the population density of each neighbourhood from this source.\n",
    "\n",
    "* I will get all of the neighbourhood geographical coordinates from [Geospatial data](https://cocl.us/Geospatial_data), a csv file that was given during the Course Lab assignment. \n",
    "\n",
    "* I am going to explore the [Foursquare API](https://developer.foursquare.com/docs) for location and other information about various venues in Toronto. This will give me enough details about the venues in terms of names, categories and locations (latitude and longitude). "
   ]
  },
  {
   "cell_type": "markdown",
   "metadata": {},
   "source": [
    "### **2.2 Sources of Data for Crime** \n",
    "\n",
    "* I will use access the Toronto Police Service [Public Safety Data Portal](https://data.torontopolice.on.ca) to access crime data. The crime data has been divided into two components by category of crime, namely, Homicide and Major Crime Indicators(MCI). These datasets cover the years from 2004 to 2019. I will combine both datasets and choose the year 2019 as the most recent year to compare with other datasets.\n",
    "\n",
    "* I would also need GeoJSON data on Toronto (https://raw.githubusercontent.com/jasonicarter/torontogeojson/master/toronto_crs84.geojson) to map the total crime on the choropleth map later on."
   ]
  },
  {
   "cell_type": "markdown",
   "metadata": {},
   "source": [
    "### **2.3 Sources of Data for Apartment Rental**\n",
    "\n",
    "* I will use the dataset from [Kaggle](https://www.kaggle.com/rajacsp/toronto-apartment-price). The data was collected for the year 2018 and has seven columns consisting of Bedroom, Bathroom, Den, Address, Latitude, Longitude and Price.\n"
   ]
  },
  {
   "cell_type": "markdown",
   "metadata": {},
   "source": [
    "### **2.4 How the data will be used to solve the problem**\n",
    "\n",
    "First and foremost, I will try to get the 140 neighbourhoods with postal codes using both datasets from wiki page and Open Data source. I will add in the population density of each neighbourhood. Then I will merge the crime dataset into the neighbourhood dataset. I can also measure the crime rate as I have the total crime and population for each neighbourhood. After I have done that I will use the geospatial data to get the geographical coordinates of each neighbourhood. Then explore the Foursquare API to find the various venues according to their categories. \n",
    "\t\n",
    "This is where the interesting part begins. I plan to combine neighbourhood data with crime rate, population density and the venue categories instead of just venue with neighbourhood data as we did in the Course Lab. I note that a lot of Capstone projects on the Github have only clustered groups using neighbourhood and venue information. **My key contribution to this project is the integration of additional details (i.e., crime rate and population density) into the clustering of groups.** In other words, my clustering group will contain information on neighbourhood, crime rate, population, and the 10 Most Common Venues. The dataset of the apartment rental will be used to map the location of the rental places containing information on average prices, the number of bedrooms, whether or not they are overpriced, and the neighbourhood. I will use the overall crime count to plot on each neighbourhood boundaries using a choropleth map. Finally, I will combine all these maps into one map and identify each cluster with its unique characteristics. I can able to identify the coolest neighbourhoods in Toronto with comprehensive details on crime rate, population density, 10 Most Common Venues, and average rental rates with number of bedrooms.\t"
   ]
  }
 ],
 "metadata": {
  "kernelspec": {
   "display_name": "Python 3",
   "language": "python",
   "name": "python3"
  },
  "language_info": {
   "codemirror_mode": {
    "name": "ipython",
    "version": 3
   },
   "file_extension": ".py",
   "mimetype": "text/x-python",
   "name": "python",
   "nbconvert_exporter": "python",
   "pygments_lexer": "ipython3",
   "version": "3.7.6"
  },
  "varInspector": {
   "cols": {
    "lenName": 16,
    "lenType": 16,
    "lenVar": 40
   },
   "kernels_config": {
    "python": {
     "delete_cmd_postfix": "",
     "delete_cmd_prefix": "del ",
     "library": "var_list.py",
     "varRefreshCmd": "print(var_dic_list())"
    },
    "r": {
     "delete_cmd_postfix": ") ",
     "delete_cmd_prefix": "rm(",
     "library": "var_list.r",
     "varRefreshCmd": "cat(var_dic_list()) "
    }
   },
   "types_to_exclude": [
    "module",
    "function",
    "builtin_function_or_method",
    "instance",
    "_Feature"
   ],
   "window_display": false
  }
 },
 "nbformat": 4,
 "nbformat_minor": 4
}
